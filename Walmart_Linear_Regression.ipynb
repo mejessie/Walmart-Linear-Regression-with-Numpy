{
  "nbformat": 4,
  "nbformat_minor": 0,
  "metadata": {
    "colab": {
      "provenance": []
    },
    "kernelspec": {
      "name": "python3",
      "display_name": "Python 3"
    },
    "language_info": {
      "name": "python"
    }
  },
  "cells": [
    {
      "cell_type": "code",
      "execution_count": 41,
      "metadata": {
        "id": "pZNYn7G1UXUw"
      },
      "outputs": [],
      "source": [
        "import pandas as pd\n",
        "import numpy as np"
      ]
    },
    {
      "cell_type": "code",
      "source": [
        "df = pd.read_csv(\"https://raw.githubusercontent.com/mejessie/Walmart-Linear-Regression-with-Numpy/main/Walmart.csv\")\n",
        "\n",
        "print(df)"
      ],
      "metadata": {
        "id": "KddR1CCivQSk",
        "colab": {
          "base_uri": "https://localhost:8080/"
        },
        "outputId": "e2236612-dcb1-4b1b-88cc-661eac5ede80"
      },
      "execution_count": 53,
      "outputs": [
        {
          "output_type": "stream",
          "name": "stdout",
          "text": [
            "      Store        Date  Weekly_Sales  Holiday_Flag  Temperature  Fuel_Price  \\\n",
            "0         1  05-02-2010    1643690.90             0        42.31       2.572   \n",
            "1         1  12-02-2010    1641957.44             1        38.51       2.548   \n",
            "2         1  19-02-2010    1611968.17             0        39.93       2.514   \n",
            "3         1  26-02-2010    1409727.59             0        46.63       2.561   \n",
            "4         1  05-03-2010    1554806.68             0        46.50       2.625   \n",
            "...     ...         ...           ...           ...          ...         ...   \n",
            "6430     45  28-09-2012     713173.95             0        64.88       3.997   \n",
            "6431     45  05-10-2012     733455.07             0        64.89       3.985   \n",
            "6432     45  12-10-2012     734464.36             0        54.47       4.000   \n",
            "6433     45  19-10-2012     718125.53             0        56.47       3.969   \n",
            "6434     45  26-10-2012     760281.43             0        58.85       3.882   \n",
            "\n",
            "             CPI  Unemployment  \n",
            "0     211.096358         8.106  \n",
            "1     211.242170         8.106  \n",
            "2     211.289143         8.106  \n",
            "3     211.319643         8.106  \n",
            "4     211.350143         8.106  \n",
            "...          ...           ...  \n",
            "6430  192.013558         8.684  \n",
            "6431  192.170412         8.667  \n",
            "6432  192.327265         8.667  \n",
            "6433  192.330854         8.667  \n",
            "6434  192.308899         8.667  \n",
            "\n",
            "[6435 rows x 8 columns]\n"
          ]
        }
      ]
    },
    {
      "cell_type": "code",
      "source": [
        "x = df.iloc[:, 3:].values\n",
        "y = df.iloc[:, 2].values\n",
        "\n",
        "print(x)\n",
        "print(y)"
      ],
      "metadata": {
        "id": "wkBaoC2Dv8HM",
        "colab": {
          "base_uri": "https://localhost:8080/"
        },
        "outputId": "e50a6c23-4699-4b0b-c0e1-e7e02b63454f"
      },
      "execution_count": 59,
      "outputs": [
        {
          "output_type": "stream",
          "name": "stdout",
          "text": [
            "[[  0.         42.31        2.572     211.0963582   8.106    ]\n",
            " [  1.         38.51        2.548     211.2421698   8.106    ]\n",
            " [  0.         39.93        2.514     211.2891429   8.106    ]\n",
            " ...\n",
            " [  0.         54.47        4.        192.3272654   8.667    ]\n",
            " [  0.         56.47        3.969     192.3308542   8.667    ]\n",
            " [  0.         58.85        3.882     192.3088989   8.667    ]]\n",
            "[1643690.9  1641957.44 1611968.17 ...  734464.36  718125.53  760281.43]\n"
          ]
        }
      ]
    },
    {
      "cell_type": "code",
      "source": [
        "# Add a front column with all elements as 1\n",
        "x_w = np.c_[np.ones(len(x)), x]\n",
        "\n",
        "print(x_w)"
      ],
      "metadata": {
        "id": "yeK5rh_Rxvy-",
        "colab": {
          "base_uri": "https://localhost:8080/"
        },
        "outputId": "3c2e78cd-286a-4bc0-97ad-3db7a0280917"
      },
      "execution_count": 50,
      "outputs": [
        {
          "output_type": "stream",
          "name": "stdout",
          "text": [
            "[[  1.          0.         42.31        2.572     211.0963582   8.106    ]\n",
            " [  1.          1.         38.51        2.548     211.2421698   8.106    ]\n",
            " [  1.          0.         39.93        2.514     211.2891429   8.106    ]\n",
            " ...\n",
            " [  1.          0.         54.47        4.        192.3272654   8.667    ]\n",
            " [  1.          0.         56.47        3.969     192.3308542   8.667    ]\n",
            " [  1.          0.         58.85        3.882     192.3088989   8.667    ]]\n"
          ]
        }
      ]
    },
    {
      "cell_type": "markdown",
      "source": [
        "# Training the model using the calculated weights<br>![image.png](data:image/png;base64,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)"
      ],
      "metadata": {
        "id": "UwnzVuNRXWeU"
      }
    },
    {
      "cell_type": "code",
      "source": [
        "# Calc the weights\n",
        "w = np.linalg.inv(x_w.T.dot(x_w)).dot(x_w.T).dot(y)\n",
        "\n",
        "print(w)"
      ],
      "metadata": {
        "id": "U12LbjHMyukQ",
        "colab": {
          "base_uri": "https://localhost:8080/"
        },
        "outputId": "a5735c36-b3e6-42f3-90c8-93740fa7de49"
      },
      "execution_count": 54,
      "outputs": [
        {
          "output_type": "stream",
          "name": "stdout",
          "text": [
            "[ 1.72652339e+06  7.48916609e+04 -7.24171518e+02 -1.01678784e+04\n",
            " -1.59887168e+03 -4.15522809e+04]\n"
          ]
        }
      ]
    },
    {
      "cell_type": "markdown",
      "source": [
        "# Building the model"
      ],
      "metadata": {
        "id": "Wt7NudCMYfPI"
      }
    },
    {
      "cell_type": "code",
      "source": [
        "y_hat = x.dot(w[1:].T) + w[0]\n",
        "\n",
        "pd.DataFrame(np.vstack([y, y_hat]).T)"
      ],
      "metadata": {
        "id": "aqVsyAR022s2",
        "colab": {
          "base_uri": "https://localhost:8080/",
          "height": 424
        },
        "outputId": "5aeda006-27f6-4dbf-955b-0872e240ecd5"
      },
      "execution_count": 76,
      "outputs": [
        {
          "output_type": "execute_result",
          "data": {
            "text/plain": [
              "               0             1\n",
              "0     1643690.90  9.953931e+05\n",
              "1     1641957.44  1.073048e+06\n",
              "2     1611968.17  9.973982e+05\n",
              "3     1409727.59  9.920196e+05\n",
              "4     1554806.68  9.914142e+05\n",
              "...          ...           ...\n",
              "6430   713173.95  9.710531e+05\n",
              "6431   733455.07  9.716235e+05\n",
              "6432   734464.36  9.787660e+05\n",
              "6433   718125.53  9.776271e+05\n",
              "6434   760281.43  9.768233e+05\n",
              "\n",
              "[6435 rows x 2 columns]"
            ],
            "text/html": [
              "\n",
              "  <div id=\"df-0c7ede36-6417-463b-a21c-fab8223962ba\" class=\"colab-df-container\">\n",
              "    <div>\n",
              "<style scoped>\n",
              "    .dataframe tbody tr th:only-of-type {\n",
              "        vertical-align: middle;\n",
              "    }\n",
              "\n",
              "    .dataframe tbody tr th {\n",
              "        vertical-align: top;\n",
              "    }\n",
              "\n",
              "    .dataframe thead th {\n",
              "        text-align: right;\n",
              "    }\n",
              "</style>\n",
              "<table border=\"1\" class=\"dataframe\">\n",
              "  <thead>\n",
              "    <tr style=\"text-align: right;\">\n",
              "      <th></th>\n",
              "      <th>0</th>\n",
              "      <th>1</th>\n",
              "    </tr>\n",
              "  </thead>\n",
              "  <tbody>\n",
              "    <tr>\n",
              "      <th>0</th>\n",
              "      <td>1643690.90</td>\n",
              "      <td>9.953931e+05</td>\n",
              "    </tr>\n",
              "    <tr>\n",
              "      <th>1</th>\n",
              "      <td>1641957.44</td>\n",
              "      <td>1.073048e+06</td>\n",
              "    </tr>\n",
              "    <tr>\n",
              "      <th>2</th>\n",
              "      <td>1611968.17</td>\n",
              "      <td>9.973982e+05</td>\n",
              "    </tr>\n",
              "    <tr>\n",
              "      <th>3</th>\n",
              "      <td>1409727.59</td>\n",
              "      <td>9.920196e+05</td>\n",
              "    </tr>\n",
              "    <tr>\n",
              "      <th>4</th>\n",
              "      <td>1554806.68</td>\n",
              "      <td>9.914142e+05</td>\n",
              "    </tr>\n",
              "    <tr>\n",
              "      <th>...</th>\n",
              "      <td>...</td>\n",
              "      <td>...</td>\n",
              "    </tr>\n",
              "    <tr>\n",
              "      <th>6430</th>\n",
              "      <td>713173.95</td>\n",
              "      <td>9.710531e+05</td>\n",
              "    </tr>\n",
              "    <tr>\n",
              "      <th>6431</th>\n",
              "      <td>733455.07</td>\n",
              "      <td>9.716235e+05</td>\n",
              "    </tr>\n",
              "    <tr>\n",
              "      <th>6432</th>\n",
              "      <td>734464.36</td>\n",
              "      <td>9.787660e+05</td>\n",
              "    </tr>\n",
              "    <tr>\n",
              "      <th>6433</th>\n",
              "      <td>718125.53</td>\n",
              "      <td>9.776271e+05</td>\n",
              "    </tr>\n",
              "    <tr>\n",
              "      <th>6434</th>\n",
              "      <td>760281.43</td>\n",
              "      <td>9.768233e+05</td>\n",
              "    </tr>\n",
              "  </tbody>\n",
              "</table>\n",
              "<p>6435 rows × 2 columns</p>\n",
              "</div>\n",
              "    <div class=\"colab-df-buttons\">\n",
              "\n",
              "  <div class=\"colab-df-container\">\n",
              "    <button class=\"colab-df-convert\" onclick=\"convertToInteractive('df-0c7ede36-6417-463b-a21c-fab8223962ba')\"\n",
              "            title=\"Convert this dataframe to an interactive table.\"\n",
              "            style=\"display:none;\">\n",
              "\n",
              "  <svg xmlns=\"http://www.w3.org/2000/svg\" height=\"24px\" viewBox=\"0 -960 960 960\">\n",
              "    <path d=\"M120-120v-720h720v720H120Zm60-500h600v-160H180v160Zm220 220h160v-160H400v160Zm0 220h160v-160H400v160ZM180-400h160v-160H180v160Zm440 0h160v-160H620v160ZM180-180h160v-160H180v160Zm440 0h160v-160H620v160Z\"/>\n",
              "  </svg>\n",
              "    </button>\n",
              "\n",
              "  <style>\n",
              "    .colab-df-container {\n",
              "      display:flex;\n",
              "      gap: 12px;\n",
              "    }\n",
              "\n",
              "    .colab-df-convert {\n",
              "      background-color: #E8F0FE;\n",
              "      border: none;\n",
              "      border-radius: 50%;\n",
              "      cursor: pointer;\n",
              "      display: none;\n",
              "      fill: #1967D2;\n",
              "      height: 32px;\n",
              "      padding: 0 0 0 0;\n",
              "      width: 32px;\n",
              "    }\n",
              "\n",
              "    .colab-df-convert:hover {\n",
              "      background-color: #E2EBFA;\n",
              "      box-shadow: 0px 1px 2px rgba(60, 64, 67, 0.3), 0px 1px 3px 1px rgba(60, 64, 67, 0.15);\n",
              "      fill: #174EA6;\n",
              "    }\n",
              "\n",
              "    .colab-df-buttons div {\n",
              "      margin-bottom: 4px;\n",
              "    }\n",
              "\n",
              "    [theme=dark] .colab-df-convert {\n",
              "      background-color: #3B4455;\n",
              "      fill: #D2E3FC;\n",
              "    }\n",
              "\n",
              "    [theme=dark] .colab-df-convert:hover {\n",
              "      background-color: #434B5C;\n",
              "      box-shadow: 0px 1px 3px 1px rgba(0, 0, 0, 0.15);\n",
              "      filter: drop-shadow(0px 1px 2px rgba(0, 0, 0, 0.3));\n",
              "      fill: #FFFFFF;\n",
              "    }\n",
              "  </style>\n",
              "\n",
              "    <script>\n",
              "      const buttonEl =\n",
              "        document.querySelector('#df-0c7ede36-6417-463b-a21c-fab8223962ba button.colab-df-convert');\n",
              "      buttonEl.style.display =\n",
              "        google.colab.kernel.accessAllowed ? 'block' : 'none';\n",
              "\n",
              "      async function convertToInteractive(key) {\n",
              "        const element = document.querySelector('#df-0c7ede36-6417-463b-a21c-fab8223962ba');\n",
              "        const dataTable =\n",
              "          await google.colab.kernel.invokeFunction('convertToInteractive',\n",
              "                                                    [key], {});\n",
              "        if (!dataTable) return;\n",
              "\n",
              "        const docLinkHtml = 'Like what you see? Visit the ' +\n",
              "          '<a target=\"_blank\" href=https://colab.research.google.com/notebooks/data_table.ipynb>data table notebook</a>'\n",
              "          + ' to learn more about interactive tables.';\n",
              "        element.innerHTML = '';\n",
              "        dataTable['output_type'] = 'display_data';\n",
              "        await google.colab.output.renderOutput(dataTable, element);\n",
              "        const docLink = document.createElement('div');\n",
              "        docLink.innerHTML = docLinkHtml;\n",
              "        element.appendChild(docLink);\n",
              "      }\n",
              "    </script>\n",
              "  </div>\n",
              "\n",
              "\n",
              "<div id=\"df-8eedaa19-dc28-4550-bf31-2fa7b11eac8f\">\n",
              "  <button class=\"colab-df-quickchart\" onclick=\"quickchart('df-8eedaa19-dc28-4550-bf31-2fa7b11eac8f')\"\n",
              "            title=\"Suggest charts\"\n",
              "            style=\"display:none;\">\n",
              "\n",
              "<svg xmlns=\"http://www.w3.org/2000/svg\" height=\"24px\"viewBox=\"0 0 24 24\"\n",
              "     width=\"24px\">\n",
              "    <g>\n",
              "        <path d=\"M19 3H5c-1.1 0-2 .9-2 2v14c0 1.1.9 2 2 2h14c1.1 0 2-.9 2-2V5c0-1.1-.9-2-2-2zM9 17H7v-7h2v7zm4 0h-2V7h2v10zm4 0h-2v-4h2v4z\"/>\n",
              "    </g>\n",
              "</svg>\n",
              "  </button>\n",
              "\n",
              "<style>\n",
              "  .colab-df-quickchart {\n",
              "      --bg-color: #E8F0FE;\n",
              "      --fill-color: #1967D2;\n",
              "      --hover-bg-color: #E2EBFA;\n",
              "      --hover-fill-color: #174EA6;\n",
              "      --disabled-fill-color: #AAA;\n",
              "      --disabled-bg-color: #DDD;\n",
              "  }\n",
              "\n",
              "  [theme=dark] .colab-df-quickchart {\n",
              "      --bg-color: #3B4455;\n",
              "      --fill-color: #D2E3FC;\n",
              "      --hover-bg-color: #434B5C;\n",
              "      --hover-fill-color: #FFFFFF;\n",
              "      --disabled-bg-color: #3B4455;\n",
              "      --disabled-fill-color: #666;\n",
              "  }\n",
              "\n",
              "  .colab-df-quickchart {\n",
              "    background-color: var(--bg-color);\n",
              "    border: none;\n",
              "    border-radius: 50%;\n",
              "    cursor: pointer;\n",
              "    display: none;\n",
              "    fill: var(--fill-color);\n",
              "    height: 32px;\n",
              "    padding: 0;\n",
              "    width: 32px;\n",
              "  }\n",
              "\n",
              "  .colab-df-quickchart:hover {\n",
              "    background-color: var(--hover-bg-color);\n",
              "    box-shadow: 0 1px 2px rgba(60, 64, 67, 0.3), 0 1px 3px 1px rgba(60, 64, 67, 0.15);\n",
              "    fill: var(--button-hover-fill-color);\n",
              "  }\n",
              "\n",
              "  .colab-df-quickchart-complete:disabled,\n",
              "  .colab-df-quickchart-complete:disabled:hover {\n",
              "    background-color: var(--disabled-bg-color);\n",
              "    fill: var(--disabled-fill-color);\n",
              "    box-shadow: none;\n",
              "  }\n",
              "\n",
              "  .colab-df-spinner {\n",
              "    border: 2px solid var(--fill-color);\n",
              "    border-color: transparent;\n",
              "    border-bottom-color: var(--fill-color);\n",
              "    animation:\n",
              "      spin 1s steps(1) infinite;\n",
              "  }\n",
              "\n",
              "  @keyframes spin {\n",
              "    0% {\n",
              "      border-color: transparent;\n",
              "      border-bottom-color: var(--fill-color);\n",
              "      border-left-color: var(--fill-color);\n",
              "    }\n",
              "    20% {\n",
              "      border-color: transparent;\n",
              "      border-left-color: var(--fill-color);\n",
              "      border-top-color: var(--fill-color);\n",
              "    }\n",
              "    30% {\n",
              "      border-color: transparent;\n",
              "      border-left-color: var(--fill-color);\n",
              "      border-top-color: var(--fill-color);\n",
              "      border-right-color: var(--fill-color);\n",
              "    }\n",
              "    40% {\n",
              "      border-color: transparent;\n",
              "      border-right-color: var(--fill-color);\n",
              "      border-top-color: var(--fill-color);\n",
              "    }\n",
              "    60% {\n",
              "      border-color: transparent;\n",
              "      border-right-color: var(--fill-color);\n",
              "    }\n",
              "    80% {\n",
              "      border-color: transparent;\n",
              "      border-right-color: var(--fill-color);\n",
              "      border-bottom-color: var(--fill-color);\n",
              "    }\n",
              "    90% {\n",
              "      border-color: transparent;\n",
              "      border-bottom-color: var(--fill-color);\n",
              "    }\n",
              "  }\n",
              "</style>\n",
              "\n",
              "  <script>\n",
              "    async function quickchart(key) {\n",
              "      const quickchartButtonEl =\n",
              "        document.querySelector('#' + key + ' button');\n",
              "      quickchartButtonEl.disabled = true;  // To prevent multiple clicks.\n",
              "      quickchartButtonEl.classList.add('colab-df-spinner');\n",
              "      try {\n",
              "        const charts = await google.colab.kernel.invokeFunction(\n",
              "            'suggestCharts', [key], {});\n",
              "      } catch (error) {\n",
              "        console.error('Error during call to suggestCharts:', error);\n",
              "      }\n",
              "      quickchartButtonEl.classList.remove('colab-df-spinner');\n",
              "      quickchartButtonEl.classList.add('colab-df-quickchart-complete');\n",
              "    }\n",
              "    (() => {\n",
              "      let quickchartButtonEl =\n",
              "        document.querySelector('#df-8eedaa19-dc28-4550-bf31-2fa7b11eac8f button');\n",
              "      quickchartButtonEl.style.display =\n",
              "        google.colab.kernel.accessAllowed ? 'block' : 'none';\n",
              "    })();\n",
              "  </script>\n",
              "</div>\n",
              "    </div>\n",
              "  </div>\n"
            ]
          },
          "metadata": {},
          "execution_count": 76
        }
      ]
    },
    {
      "cell_type": "markdown",
      "source": [
        "# Evaluate the model using Root Mean Square Error (RMSE)"
      ],
      "metadata": {
        "id": "8cJsAt8tYphJ"
      }
    },
    {
      "cell_type": "code",
      "source": [
        "# Calc SSE\n",
        "SSE = np.sum((y - y_hat) ** 2)\n",
        "\n",
        "# Calc RMSE\n",
        "RMSE = np.sqrt(SSE / len(y))\n",
        "\n",
        "print(f\"RMSE = {RMSE}\")"
      ],
      "metadata": {
        "colab": {
          "base_uri": "https://localhost:8080/"
        },
        "id": "u5OhozX84awu",
        "outputId": "5593e8aa-09c9-4402-f5db-af5f45321765"
      },
      "execution_count": 47,
      "outputs": [
        {
          "output_type": "stream",
          "name": "stdout",
          "text": [
            "RMSE = 557097.2925710742\n"
          ]
        }
      ]
    }
  ]
}